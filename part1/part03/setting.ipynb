{
 "cells": [
  {
   "cell_type": "code",
   "execution_count": 1,
   "id": "d49fe694",
   "metadata": {},
   "outputs": [
    {
     "name": "stdout",
     "output_type": "stream",
     "text": [
      "Hello, World!\n"
     ]
    }
   ],
   "source": [
    "print(\"Hello, World!\")\n"
   ]
  },
  {
   "cell_type": "markdown",
   "id": "0c749262",
   "metadata": {},
   "source": [
    "문자 앞뒤에 특수문자를 넣으면 *기울임체*가 됩니다.\n",
    "\n",
    "문자 앞뒤에 특수문자를 넣으면 **강조체**가 됨니다.\n",
    "\n",
    "문자 앞뒤에 특수문자를 넣음면 ~~취소선~~을 만듭니다.\n",
    "\n",
    "문자 앞뒤에 대괄호와 괄호를 넣으면 [하이퍼링크] (https://www.google.com/)를 만듭니다.\n",
    "\n",
    "# 1단계 제목\n",
    "## 2단계 제목\n",
    "### 3단계 제목\n",
    "##### 4단계 제목\n",
    "\n",
    "코드에 백틱(backtick) 기호를 입력하면 `pandas`와 같이 음영을 넣습니다."
   ]
  },
  {
   "cell_type": "code",
   "execution_count": null,
   "id": "1d7353dd",
   "metadata": {},
   "outputs": [],
   "source": []
  }
 ],
 "metadata": {
  "kernelspec": {
   "display_name": "Python 3",
   "language": "python",
   "name": "python3"
  },
  "language_info": {
   "codemirror_mode": {
    "name": "ipython",
    "version": 3
   },
   "file_extension": ".py",
   "mimetype": "text/x-python",
   "name": "python",
   "nbconvert_exporter": "python",
   "pygments_lexer": "ipython3",
   "version": "3.12.2"
  }
 },
 "nbformat": 4,
 "nbformat_minor": 5
}
