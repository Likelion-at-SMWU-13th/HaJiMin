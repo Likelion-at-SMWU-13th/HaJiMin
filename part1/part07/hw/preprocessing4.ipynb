{
 "cells": [
  {
   "cell_type": "code",
   "execution_count": 20,
   "id": "d25a3839",
   "metadata": {},
   "outputs": [],
   "source": [
    "import pandas as pd\n",
    "import numpy as np"
   ]
  },
  {
   "cell_type": "code",
   "execution_count": 3,
   "id": "de8cfe6f",
   "metadata": {},
   "outputs": [],
   "source": [
    "mpg = pd.read_csv('mpg.csv')"
   ]
  },
  {
   "cell_type": "code",
   "execution_count": 4,
   "id": "70c6dab6",
   "metadata": {},
   "outputs": [],
   "source": [
    "mpg.loc[[64, 123, 130, 152, 211], 'hwy'] = np.nan"
   ]
  },
  {
   "cell_type": "code",
   "execution_count": 5,
   "id": "7b6aa7a2",
   "metadata": {},
   "outputs": [],
   "source": [
    "mpg.loc[[64, 123, 130, 152, 211], 'hwy'] = np.nan"
   ]
  },
  {
   "cell_type": "code",
   "execution_count": 7,
   "id": "84874726",
   "metadata": {},
   "outputs": [
    {
     "name": "stdout",
     "output_type": "stream",
     "text": [
      "결측치 개수:\n",
      "drv    0\n",
      "hwy    5\n",
      "dtype: int64\n"
     ]
    }
   ],
   "source": [
    "print(\"결측치 개수:\")\n",
    "print(mpg[['drv', 'hwy']].isna().sum())"
   ]
  },
  {
   "cell_type": "code",
   "execution_count": 8,
   "id": "b3614ba2",
   "metadata": {},
   "outputs": [
    {
     "name": "stdout",
     "output_type": "stream",
     "text": [
      "'drv'별 'hwy' 평균(결측치 제거 후):\n",
      "drv\n",
      "4    19.242424\n",
      "f    28.200000\n",
      "r    21.000000\n",
      "Name: hwy, dtype: float64\n"
     ]
    }
   ],
   "source": [
    "result = mpg.dropna(subset=['hwy']).groupby('drv')['hwy'].mean()\n",
    "print(\"'drv'별 'hwy' 평균(결측치 제거 후):\")\n",
    "print(result)"
   ]
  },
  {
   "cell_type": "code",
   "execution_count": 9,
   "id": "b37ad040",
   "metadata": {},
   "outputs": [],
   "source": [
    "mpg.loc[[9, 13, 57, 92], 'drv'] = 'k'\n",
    "mpg.loc[[28, 42, 128, 202], 'cty'] = [3, 4, 39, 42]"
   ]
  },
  {
   "cell_type": "code",
   "execution_count": 17,
   "id": "312142a4",
   "metadata": {},
   "outputs": [
    {
     "name": "stdout",
     "output_type": "stream",
     "text": [
      "drv 이상치 확인 (isin의 반대):\n",
      "drv\n",
      "True     230\n",
      "False      4\n",
      "Name: count, dtype: int64\n"
     ]
    }
   ],
   "source": [
    "print(\"drv 이상치 확인 (isin의 반대):\")\n",
    "print(mpg['drv'].isin(['4', 'f', 'r']).value_counts())"
   ]
  },
  {
   "cell_type": "code",
   "execution_count": 18,
   "id": "7a4b7377",
   "metadata": {},
   "outputs": [
    {
     "name": "stdout",
     "output_type": "stream",
     "text": [
      "\n",
      "True: 정상값 / False: 이상치\n",
      "0      True\n",
      "1      True\n",
      "2      True\n",
      "3      True\n",
      "4      True\n",
      "       ... \n",
      "229    True\n",
      "230    True\n",
      "231    True\n",
      "232    True\n",
      "233    True\n",
      "Name: drv, Length: 234, dtype: bool\n"
     ]
    }
   ],
   "source": [
    "print(\"\\nTrue: 정상값 / False: 이상치\")\n",
    "print(mpg['drv'].isin(['4', 'f', 'r']))"
   ]
  },
  {
   "cell_type": "code",
   "execution_count": 11,
   "id": "76d56da6",
   "metadata": {},
   "outputs": [],
   "source": [
    "mpg['drv'] = np.where(mpg['drv'] == 'k', np.nan, mpg['drv'])"
   ]
  },
  {
   "cell_type": "code",
   "execution_count": 13,
   "id": "41727888",
   "metadata": {},
   "outputs": [],
   "source": [
    "pct25 = mpg['cty'].quantile(0.25)  # 1사분위수\n",
    "pct75 = mpg['cty'].quantile(0.75)  # 3사분위수\n",
    "iqr = pct75 - pct25                # IQR\n",
    "lower = pct25 - 1.5 * iqr          # 하한\n",
    "upper = pct75 + 1.5 * iqr          # 상한"
   ]
  },
  {
   "cell_type": "code",
   "execution_count": 14,
   "id": "a639eaf8",
   "metadata": {},
   "outputs": [],
   "source": [
    "mpg['cty'] = np.where((mpg['cty'] < lower) | (mpg['cty'] > upper), np.nan, mpg['cty'])"
   ]
  },
  {
   "cell_type": "code",
   "execution_count": 15,
   "id": "e58a3ca3",
   "metadata": {},
   "outputs": [],
   "source": [
    "result = mpg.dropna(subset=['drv', 'cty']) \\\n",
    "            .groupby('drv') \\\n",
    "            .agg(mean_cty=('cty', 'mean'))"
   ]
  },
  {
   "cell_type": "code",
   "execution_count": null,
   "id": "d7340757",
   "metadata": {},
   "outputs": [
    {
     "name": "stdout",
     "output_type": "stream",
     "text": [
      "\n",
      "3. 이상치 제거 후 drv별 cty 평균:\n",
      "      mean_cty\n",
      "drv           \n",
      "4    14.247423\n",
      "f    19.470000\n",
      "r    13.958333\n"
     ]
    }
   ],
   "source": [
    "print(\"3. 이상치 제거 후 drv별 cty 평균:\")\n",
    "print(result)"
   ]
  }
 ],
 "metadata": {
  "kernelspec": {
   "display_name": "Python 3",
   "language": "python",
   "name": "python3"
  },
  "language_info": {
   "codemirror_mode": {
    "name": "ipython",
    "version": 3
   },
   "file_extension": ".py",
   "mimetype": "text/x-python",
   "name": "python",
   "nbconvert_exporter": "python",
   "pygments_lexer": "ipython3",
   "version": "3.9.6"
  }
 },
 "nbformat": 4,
 "nbformat_minor": 5
}
