{
 "cells": [
  {
   "cell_type": "markdown",
   "id": "827097c1",
   "metadata": {},
   "source": [
    "### 1. 시군구 경계 지도 데이터 준비하기"
   ]
  },
  {
   "cell_type": "code",
   "execution_count": 19,
   "id": "8b6b54a0",
   "metadata": {},
   "outputs": [],
   "source": [
    "import json\n",
    "geo = json.load(open(\"SIG.geojson\", encoding=\"utf-8\"))"
   ]
  },
  {
   "cell_type": "markdown",
   "id": "784a6036",
   "metadata": {},
   "source": [
    "### 2. 시군구별 인구 데이터 준비하기"
   ]
  },
  {
   "cell_type": "code",
   "execution_count": 20,
   "id": "5fe3463b",
   "metadata": {},
   "outputs": [],
   "source": [
    "import pandas as pd\n",
    "df_pop = pd.read_csv(\"Population_SIG.csv\")"
   ]
  },
  {
   "cell_type": "code",
   "execution_count": 21,
   "id": "5e5b3769",
   "metadata": {},
   "outputs": [
    {
     "data": {
      "text/html": [
       "<div>\n",
       "<style scoped>\n",
       "    .dataframe tbody tr th:only-of-type {\n",
       "        vertical-align: middle;\n",
       "    }\n",
       "\n",
       "    .dataframe tbody tr th {\n",
       "        vertical-align: top;\n",
       "    }\n",
       "\n",
       "    .dataframe thead th {\n",
       "        text-align: right;\n",
       "    }\n",
       "</style>\n",
       "<table border=\"1\" class=\"dataframe\">\n",
       "  <thead>\n",
       "    <tr style=\"text-align: right;\">\n",
       "      <th></th>\n",
       "      <th>code</th>\n",
       "      <th>region</th>\n",
       "      <th>pop</th>\n",
       "    </tr>\n",
       "  </thead>\n",
       "  <tbody>\n",
       "    <tr>\n",
       "      <th>0</th>\n",
       "      <td>11</td>\n",
       "      <td>서울특별시</td>\n",
       "      <td>9509458</td>\n",
       "    </tr>\n",
       "    <tr>\n",
       "      <th>1</th>\n",
       "      <td>11110</td>\n",
       "      <td>종로구</td>\n",
       "      <td>144683</td>\n",
       "    </tr>\n",
       "    <tr>\n",
       "      <th>2</th>\n",
       "      <td>11140</td>\n",
       "      <td>중구</td>\n",
       "      <td>122499</td>\n",
       "    </tr>\n",
       "    <tr>\n",
       "      <th>3</th>\n",
       "      <td>11170</td>\n",
       "      <td>용산구</td>\n",
       "      <td>222953</td>\n",
       "    </tr>\n",
       "    <tr>\n",
       "      <th>4</th>\n",
       "      <td>11200</td>\n",
       "      <td>성동구</td>\n",
       "      <td>285990</td>\n",
       "    </tr>\n",
       "  </tbody>\n",
       "</table>\n",
       "</div>"
      ],
      "text/plain": [
       "    code region      pop\n",
       "0     11  서울특별시  9509458\n",
       "1  11110    종로구   144683\n",
       "2  11140     중구   122499\n",
       "3  11170    용산구   222953\n",
       "4  11200    성동구   285990"
      ]
     },
     "execution_count": 21,
     "metadata": {},
     "output_type": "execute_result"
    }
   ],
   "source": [
    "df_pop.head()"
   ]
  },
  {
   "cell_type": "code",
   "execution_count": 22,
   "id": "4037914f",
   "metadata": {},
   "outputs": [
    {
     "name": "stdout",
     "output_type": "stream",
     "text": [
      "<class 'pandas.core.frame.DataFrame'>\n",
      "RangeIndex: 278 entries, 0 to 277\n",
      "Data columns (total 3 columns):\n",
      " #   Column  Non-Null Count  Dtype \n",
      "---  ------  --------------  ----- \n",
      " 0   code    278 non-null    int64 \n",
      " 1   region  278 non-null    object\n",
      " 2   pop     278 non-null    int64 \n",
      "dtypes: int64(2), object(1)\n",
      "memory usage: 6.6+ KB\n"
     ]
    }
   ],
   "source": [
    "df_pop.info()"
   ]
  },
  {
   "cell_type": "code",
   "execution_count": 23,
   "id": "c629e33a",
   "metadata": {},
   "outputs": [],
   "source": [
    "df_pop['code'] = df_pop['code'].astype(str)"
   ]
  },
  {
   "cell_type": "markdown",
   "id": "6f9627bf",
   "metadata": {},
   "source": [
    "### 3. 단계 구분도 만들기"
   ]
  },
  {
   "cell_type": "code",
   "execution_count": 24,
   "id": "4b12a869",
   "metadata": {},
   "outputs": [
    {
     "name": "stdout",
     "output_type": "stream",
     "text": [
      "Defaulting to user installation because normal site-packages is not writeable\n",
      "Requirement already satisfied: folium in /Users/hajimin/Library/Python/3.9/lib/python/site-packages (0.20.0)\n",
      "Requirement already satisfied: branca>=0.6.0 in /Users/hajimin/Library/Python/3.9/lib/python/site-packages (from folium) (0.8.1)\n",
      "Requirement already satisfied: jinja2>=2.9 in /Users/hajimin/Library/Python/3.9/lib/python/site-packages (from folium) (3.1.6)\n",
      "Requirement already satisfied: numpy in /Users/hajimin/Library/Python/3.9/lib/python/site-packages (from folium) (1.26.4)\n",
      "Requirement already satisfied: requests in /Users/hajimin/Library/Python/3.9/lib/python/site-packages (from folium) (2.32.4)\n",
      "Requirement already satisfied: xyzservices in /Users/hajimin/Library/Python/3.9/lib/python/site-packages (from folium) (2025.4.0)\n",
      "Requirement already satisfied: MarkupSafe>=2.0 in /Users/hajimin/Library/Python/3.9/lib/python/site-packages (from jinja2>=2.9->folium) (3.0.2)\n",
      "Requirement already satisfied: charset_normalizer<4,>=2 in /Users/hajimin/Library/Python/3.9/lib/python/site-packages (from requests->folium) (3.4.2)\n",
      "Requirement already satisfied: idna<4,>=2.5 in /Users/hajimin/Library/Python/3.9/lib/python/site-packages (from requests->folium) (3.10)\n",
      "Requirement already satisfied: urllib3<3,>=1.21.1 in /Users/hajimin/Library/Python/3.9/lib/python/site-packages (from requests->folium) (2.5.0)\n",
      "Requirement already satisfied: certifi>=2017.4.17 in /Users/hajimin/Library/Python/3.9/lib/python/site-packages (from requests->folium) (2025.7.9)\n",
      "\n",
      "\u001b[1m[\u001b[0m\u001b[34;49mnotice\u001b[0m\u001b[1;39;49m]\u001b[0m\u001b[39;49m A new release of pip is available: \u001b[0m\u001b[31;49m25.1.1\u001b[0m\u001b[39;49m -> \u001b[0m\u001b[32;49m25.2\u001b[0m\n",
      "\u001b[1m[\u001b[0m\u001b[34;49mnotice\u001b[0m\u001b[1;39;49m]\u001b[0m\u001b[39;49m To update, run: \u001b[0m\u001b[32;49m/Library/Developer/CommandLineTools/usr/bin/python3 -m pip install --upgrade pip\u001b[0m\n",
      "Note: you may need to restart the kernel to use updated packages.\n"
     ]
    }
   ],
   "source": [
    "pip install folium"
   ]
  },
  {
   "cell_type": "markdown",
   "id": "6c0d4d9f",
   "metadata": {},
   "source": [
    "#### (1) 배경 지도 만들기"
   ]
  },
  {
   "cell_type": "code",
   "execution_count": 25,
   "id": "99159b92",
   "metadata": {},
   "outputs": [],
   "source": [
    "import folium \n",
    "# folium.Map(location=[35.95, 127.7],\n",
    "#            zoom_start=8)"
   ]
  },
  {
   "cell_type": "code",
   "execution_count": 26,
   "id": "c7db5ff3",
   "metadata": {},
   "outputs": [],
   "source": [
    "map_sig = folium.Map(location=[35.95, 127.7],\n",
    "           zoom_start=8,\n",
    "           tiles = 'cartodbpositron')\n",
    "# map_sig"
   ]
  },
  {
   "cell_type": "markdown",
   "id": "565827d5",
   "metadata": {},
   "source": [
    "#### (2) 단계 구분도 만들기"
   ]
  },
  {
   "cell_type": "code",
   "execution_count": 27,
   "id": "4ea106f2",
   "metadata": {},
   "outputs": [
    {
     "data": {
      "text/plain": [
       "<folium.features.Choropleth at 0x126ca4ca0>"
      ]
     },
     "execution_count": 27,
     "metadata": {},
     "output_type": "execute_result"
    }
   ],
   "source": [
    "folium.Choropleth(\n",
    "    geo_data=geo,\n",
    "    data=df_pop,\n",
    "    columns=('code','pop'),\n",
    "    key_on='feature.properties.SIG_CD')\\\n",
    "    .add_to(map_sig)\n",
    "# map_sig"
   ]
  },
  {
   "cell_type": "markdown",
   "id": "4f1d0209",
   "metadata": {},
   "source": [
    "#### (3) 계급 구간 정하기"
   ]
  },
  {
   "cell_type": "code",
   "execution_count": 28,
   "id": "c1309e3f",
   "metadata": {},
   "outputs": [
    {
     "data": {
      "text/plain": [
       "[8867.0, 50539.6, 142382.20000000004, 266978.6, 423107.20000000024, 13565450.0]"
      ]
     },
     "execution_count": 28,
     "metadata": {},
     "output_type": "execute_result"
    }
   ],
   "source": [
    "bins = list(df_pop['pop'].quantile([0,0.2,0.4,0.6,0.8,1]))\n",
    "bins"
   ]
  },
  {
   "cell_type": "markdown",
   "id": "d40fc08b",
   "metadata": {},
   "source": [
    "#### (4) 디자인 수정하기"
   ]
  },
  {
   "cell_type": "code",
   "execution_count": 29,
   "id": "3af826c4",
   "metadata": {},
   "outputs": [],
   "source": [
    "map_sig = folium.Map(location=[35.95, 127.7],\n",
    "           zoom_start=8,\n",
    "           tiles = 'cartodbpositron')"
   ]
  },
  {
   "cell_type": "code",
   "execution_count": 30,
   "id": "9ee34af0",
   "metadata": {},
   "outputs": [
    {
     "data": {
      "text/plain": [
       "<folium.features.Choropleth at 0x126cd1490>"
      ]
     },
     "execution_count": 30,
     "metadata": {},
     "output_type": "execute_result"
    }
   ],
   "source": [
    "folium.Choropleth(\n",
    "    geo_data=geo,\n",
    "    data=df_pop,\n",
    "    columns=('code','pop'),\n",
    "    key_on='feature.properties.SIG_CD',\n",
    "    fill_color='YlGnBu',\n",
    "    fill_opacity=1,\n",
    "    line_opacity=0.5,\n",
    "    bins= bins) \\\n",
    "    .add_to(map_sig)\n",
    "# map_sig"
   ]
  }
 ],
 "metadata": {
  "kernelspec": {
   "display_name": "Python 3",
   "language": "python",
   "name": "python3"
  },
  "language_info": {
   "codemirror_mode": {
    "name": "ipython",
    "version": 3
   },
   "file_extension": ".py",
   "mimetype": "text/x-python",
   "name": "python",
   "nbconvert_exporter": "python",
   "pygments_lexer": "ipython3",
   "version": "3.9.6"
  }
 },
 "nbformat": 4,
 "nbformat_minor": 5
}
